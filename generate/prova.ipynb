{
 "cells": [
  {
   "cell_type": "code",
   "execution_count": 1,
   "id": "b9242186",
   "metadata": {},
   "outputs": [],
   "source": [
    "import json"
   ]
  },
  {
   "cell_type": "code",
   "execution_count": 4,
   "id": "105027b0",
   "metadata": {},
   "outputs": [],
   "source": [
    "metrics_path =  '/Users/phd/Desktop/GPU stress with LLMs/LLM-GPU-stress/evaluate/cupti/02_profiling_injection/data/postprocessed/stress2/out1758105913V0_evaluation.json'\n",
    "with open(metrics_path, 'r') as f:\n",
    "        current_metrics_raw = json.load(f)\n",
    "current_metrics = current_metrics_raw['out1758105913V0']"
   ]
  },
  {
   "cell_type": "code",
   "execution_count": 5,
   "id": "905dc2f5",
   "metadata": {},
   "outputs": [
    {
     "data": {
      "text/plain": [
       "{'Global hit rate': 0.593446122572198,\n",
       " 'L2 hit rate by read instruction': 100.0,\n",
       " 'L2 hit rate by write instruction': 100.0,\n",
       " 'Executed instructions': 0.28203885,\n",
       " 'Instruction throughput': 9.7095775,\n",
       " 'Issued instructions': 1.152055,\n",
       " 'Read Bytes': 12183700000.0,\n",
       " 'Written bytes': 10530600000.0,\n",
       " 'Memory Stall': 38.742,\n",
       " 'Controller Stall': 2.317716107142857,\n",
       " 'Throttle Stall': 4.268995240000001,\n",
       " 'Steady Temp °C': nan,\n",
       " 'Max Temp °C': 91.0,\n",
       " 'Energy spent J/min': 11891.531999997795,\n",
       " 'Delta Clock Frequency MHz': 374.0163934426229,\n",
       " 'Clock Frequency MHz': 2730.9836065573772,\n",
       " 'Max Clock Frequency MHz': 3105.0}"
      ]
     },
     "execution_count": 5,
     "metadata": {},
     "output_type": "execute_result"
    }
   ],
   "source": [
    "current_metrics\n"
   ]
  },
  {
   "cell_type": "code",
   "execution_count": 7,
   "id": "e7c960ac",
   "metadata": {},
   "outputs": [
    {
     "data": {
      "text/plain": [
       "nan"
      ]
     },
     "execution_count": 7,
     "metadata": {},
     "output_type": "execute_result"
    }
   ],
   "source": [
    "current_objective_metric = current_metrics[\"Steady Temp °C\"]\n",
    "current_objective_metric"
   ]
  },
  {
   "cell_type": "code",
   "execution_count": null,
   "id": "a17e879f",
   "metadata": {},
   "outputs": [
    {
     "data": {
      "text/plain": [
       "True"
      ]
     },
     "execution_count": 13,
     "metadata": {},
     "output_type": "execute_result"
    }
   ],
   "source": [
    "import math\n",
    "\n",
    "math.isnan(current_objective_metric)"
   ]
  },
  {
   "cell_type": "code",
   "execution_count": null,
   "id": "644bfb23",
   "metadata": {},
   "outputs": [],
   "source": []
  },
  {
   "cell_type": "code",
   "execution_count": null,
   "id": "801f2a93",
   "metadata": {},
   "outputs": [],
   "source": []
  }
 ],
 "metadata": {
  "kernelspec": {
   "display_name": "stressEnv",
   "language": "python",
   "name": "python3"
  },
  "language_info": {
   "codemirror_mode": {
    "name": "ipython",
    "version": 3
   },
   "file_extension": ".py",
   "mimetype": "text/x-python",
   "name": "python",
   "nbconvert_exporter": "python",
   "pygments_lexer": "ipython3",
   "version": "3.9.6"
  }
 },
 "nbformat": 4,
 "nbformat_minor": 5
}
