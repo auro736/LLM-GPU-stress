{
 "cells": [
  {
   "cell_type": "code",
   "execution_count": 1,
   "metadata": {},
   "outputs": [],
   "source": [
    "import pandas as pd\n",
    "import numpy as np\n",
    "import seaborn as sns\n",
    "import matplotlib.pyplot as plt\n",
    "import os"
   ]
  },
  {
   "cell_type": "code",
   "execution_count": 2,
   "metadata": {},
   "outputs": [
    {
     "name": "stdout",
     "output_type": "stream",
     "text": [
      "../data/postprocessed/PC/backprop_10.csv\n",
      "../data/postprocessed/PC/backprop_1.csv\n",
      "../data/postprocessed/PC/lenet_30.csv\n",
      "../data/postprocessed/PC/backprop_50.csv\n",
      "../data/postprocessed/PC/gpuburn_20.csv\n",
      "../data/postprocessed/PC/gaussian_80.csv\n",
      "../data/postprocessed/PC/gpuburn_30.csv\n",
      "../data/postprocessed/PC/lenet_80.csv\n",
      "../data/postprocessed/PC/backprop_20.csv\n",
      "../data/postprocessed/PC/backprop_80.csv\n",
      "../data/postprocessed/PC/gaussian_10.csv\n",
      "../data/postprocessed/PC/backprop_100.csv\n",
      "../data/postprocessed/PC/lenet_50.csv\n",
      "../data/postprocessed/PC/gpuburn_50.csv\n",
      "../data/postprocessed/PC/gaussian_20.csv\n",
      "../data/postprocessed/PC/gpuburn_80.csv\n",
      "../data/postprocessed/PC/lenet_1.csv\n",
      "../data/postprocessed/PC/gpuburn_10.csv\n",
      "../data/postprocessed/PC/gpuburn_1.csv\n",
      "../data/postprocessed/PC/gaussian_1.csv\n",
      "../data/postprocessed/PC/gpuburn_100.csv\n",
      "../data/postprocessed/PC/backprop_30.csv\n",
      "../data/postprocessed/PC/gaussian_100.csv\n",
      "../data/postprocessed/PC/gaussian_30.csv\n",
      "../data/postprocessed/PC/lenet_10.csv\n",
      "../data/postprocessed/PC/gaussian_50.csv\n",
      "../data/postprocessed/PC/lenet_100.csv\n",
      "../data/postprocessed/PC/lenet_20.csv\n",
      "../data/postprocessed/PC/backprop_50_telemetry.csv\n",
      "../data/postprocessed/PC/gaussian_10_telemetry.csv\n",
      "../data/postprocessed/PC/backprop_20_telemetry.csv\n",
      "../data/postprocessed/PC/gpuburn_20_telemetry.csv\n",
      "../data/postprocessed/PC/lenet_50_telemetry.csv\n",
      "../data/postprocessed/PC/gpuburn_100_telemetry.csv\n",
      "../data/postprocessed/PC/gpuburn_50_telemetry.csv\n",
      "../data/postprocessed/PC/lenet_30_telemetry.csv\n",
      "../data/postprocessed/PC/lenet_80_telemetry.csv\n",
      "../data/postprocessed/PC/lenet_20_telemetry.csv\n",
      "../data/postprocessed/PC/gaussian_20_telemetry.csv\n",
      "../data/postprocessed/PC/gpuburn_80_telemetry.csv\n",
      "../data/postprocessed/PC/lenet_1_telemetry.csv\n",
      "../data/postprocessed/PC/gaussian_80_telemetry.csv\n",
      "../data/postprocessed/PC/lenet_10_telemetry.csv\n",
      "../data/postprocessed/PC/gaussian_100_telemetry.csv\n",
      "../data/postprocessed/PC/gaussian_1_telemetry.csv\n",
      "../data/postprocessed/PC/backprop_100_telemetry.csv\n",
      "../data/postprocessed/PC/backprop_80_telemetry.csv\n",
      "../data/postprocessed/PC/gaussian_50_telemetry.csv\n",
      "../data/postprocessed/PC/backprop_30_telemetry.csv\n",
      "../data/postprocessed/PC/gpuburn_1_telemetry.csv\n",
      "../data/postprocessed/PC/lenet_100_telemetry.csv\n",
      "../data/postprocessed/PC/gaussian_30_telemetry.csv\n",
      "../data/postprocessed/PC/backprop_10_telemetry.csv\n",
      "../data/postprocessed/PC/gpuburn_10_telemetry.csv\n",
      "../data/postprocessed/PC/gpuburn_30_telemetry.csv\n",
      "../data/postprocessed/PC/backprop_1_telemetry.csv\n"
     ]
    }
   ],
   "source": [
    "data_path = '../data/postprocessed/PC/'\n",
    "\n",
    "mapping_table = {\n",
    "    'backprop': 'Backpropagation algorithm',\n",
    "    'gaussian': 'Gaussian Elimination',\n",
    "    'gpu': 'Stream Cluster',\n",
    "    'lenet': 'Lenet5',\n",
    "    'gpuburn': 'GPU-burn'\n",
    "}\n",
    "\n",
    "data_sheet = pd.DataFrame()\n",
    "for csv_name in [file for file in os.listdir(data_path) if not file.endswith('_telemetry.csv') and not file.startswith('srad')]:\n",
    "    csv_full_path = os.path.join(data_path, csv_name)\n",
    "    print(csv_full_path)\n",
    "    df = pd.read_csv(csv_full_path)\n",
    "    df['Range'] = int(csv_name.split('_')[1].split('.')[0])\n",
    "    df['App_name'] = mapping_table[csv_name.split('_')[0]]\n",
    "\n",
    "    data_sheet_PC=pd.concat([data_sheet, df], ignore_index=True)\n",
    "\n",
    "for csv_name in [file for file in os.listdir(data_path) if file.endswith('_telemetry.csv') and not file.startswith('srad')]:\n",
    "    csv_full_path = os.path.join(data_path, csv_name)\n",
    "    print(csv_full_path)\n",
    "    df = pd.read_csv(csv_full_path)\n",
    "    df['Range'] = int(csv_name.split('_')[1].split('.')[0])\n",
    "    df['App_name'] = mapping_table[csv_name.split('_')[0]]\n",
    "\n",
    "    data_sheet_telemetry=pd.concat([data_sheet, df], ignore_index=True)"
   ]
  },
  {
   "cell_type": "markdown",
   "metadata": {},
   "source": [
    "## Da una parte ho i dati dei PC e dall'altra la telemetria.\n",
    "1. Nei dati dei PC il timestamp si ricava dalla duration\n",
    "2. Nei dati di telemetria il timestamp è dato.\n",
    "\n",
    "Il problema è che questi non coincidono quindi devo fare una sorta di interpolazione per far coincidere i timestamp. O trovare il modo per joinare due dataframe con timestamp che non coincidono.\n",
    "\n",
    "Una volta fatto questo si deve solo capire come normalizzarli per averli in due scale diverse ma comparabili."
   ]
  },
  {
   "cell_type": "code",
   "execution_count": null,
   "metadata": {},
   "outputs": [],
   "source": []
  }
 ],
 "metadata": {
  "kernelspec": {
   "display_name": "gpustress",
   "language": "python",
   "name": "python3"
  },
  "language_info": {
   "codemirror_mode": {
    "name": "ipython",
    "version": 3
   },
   "file_extension": ".py",
   "mimetype": "text/x-python",
   "name": "python",
   "nbconvert_exporter": "python",
   "pygments_lexer": "ipython3",
   "version": "3.10.16"
  }
 },
 "nbformat": 4,
 "nbformat_minor": 2
}
